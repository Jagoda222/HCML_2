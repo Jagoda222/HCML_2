{
  "nbformat": 4,
  "nbformat_minor": 0,
  "metadata": {
    "colab": {
      "provenance": [],
      "authorship_tag": "ABX9TyPQXo7SaGovmqKzBc2CSZ2M",
      "include_colab_link": true
    },
    "kernelspec": {
      "name": "python3",
      "display_name": "Python 3"
    },
    "language_info": {
      "name": "python"
    }
  },
  "cells": [
    {
      "cell_type": "markdown",
      "metadata": {
        "id": "view-in-github",
        "colab_type": "text"
      },
      "source": [
        "<a href=\"https://colab.research.google.com/github/Jagoda222/HCML_2/blob/main/ID_Jaco.ipynb\" target=\"_parent\"><img src=\"https://colab.research.google.com/assets/colab-badge.svg\" alt=\"Open In Colab\"/></a>"
      ]
    },
    {
      "cell_type": "markdown",
      "source": [
        "# Intersectional Divergence try 1\n",
        "This is to see whether we can use the code provided by the researchers that produced the paper on Intersectional Divergence (ID)."
      ],
      "metadata": {
        "id": "JQEmIZXD3u0E"
      }
    },
    {
      "cell_type": "code",
      "source": [
        "from sklearn.metrics import accuracy_score, precision_score, recall_score, f1_score\n",
        "from sklearn.model_selection import train_test_split\n",
        "from sklearn.preprocessing import LabelEncoder\n",
        "from sklearn import metrics\n",
        "from sklearn.datasets import make_classification\n",
        "from sklearn.linear_model import LogisticRegression\n",
        "from sklearn.linear_model import LinearRegression\n",
        "from sklearn.metrics import classification_report\n",
        "from sklearn.model_selection import train_test_split\n",
        "import matplotlib.pyplot as plt\n",
        "import seaborn as sns\n",
        "import numpy as np\n",
        "import pandas as pd"
      ],
      "metadata": {
        "id": "5PKmdQz5w9UL"
      },
      "execution_count": 3,
      "outputs": []
    },
    {
      "cell_type": "code",
      "source": [
        "# !pip install iron\n",
        "from iron import phi"
      ],
      "metadata": {
        "colab": {
          "base_uri": "https://localhost:8080/",
          "height": 349
        },
        "id": "WpCOtVURJ4IK",
        "outputId": "2875127f-e65a-4326-a151-5e413018c88c"
      },
      "execution_count": 6,
      "outputs": [
        {
          "output_type": "error",
          "ename": "ImportError",
          "evalue": "cannot import name 'phi' from 'iron' (/usr/local/lib/python3.11/dist-packages/iron/__init__.py)",
          "traceback": [
            "\u001b[0;31m---------------------------------------------------------------------------\u001b[0m",
            "\u001b[0;31mImportError\u001b[0m                               Traceback (most recent call last)",
            "\u001b[0;32m<ipython-input-6-80494092>\u001b[0m in \u001b[0;36m<cell line: 0>\u001b[0;34m()\u001b[0m\n\u001b[1;32m      1\u001b[0m \u001b[0;31m# !pip install iron\u001b[0m\u001b[0;34m\u001b[0m\u001b[0;34m\u001b[0m\u001b[0m\n\u001b[0;32m----> 2\u001b[0;31m \u001b[0;32mfrom\u001b[0m \u001b[0miron\u001b[0m \u001b[0;32mimport\u001b[0m \u001b[0mphi\u001b[0m\u001b[0;34m\u001b[0m\u001b[0;34m\u001b[0m\u001b[0m\n\u001b[0m",
            "\u001b[0;31mImportError\u001b[0m: cannot import name 'phi' from 'iron' (/usr/local/lib/python3.11/dist-packages/iron/__init__.py)",
            "",
            "\u001b[0;31m---------------------------------------------------------------------------\u001b[0;32m\nNOTE: If your import is failing due to a missing package, you can\nmanually install dependencies using either !pip or !apt.\n\nTo view examples of installing some common dependencies, click the\n\"Open Examples\" button below.\n\u001b[0;31m---------------------------------------------------------------------------\u001b[0m\n"
          ],
          "errorDetails": {
            "actions": [
              {
                "action": "open_url",
                "actionText": "Open Examples",
                "url": "/notebooks/snippets/importing_libraries.ipynb"
              }
            ]
          }
        }
      ]
    },
    {
      "cell_type": "markdown",
      "source": [
        "### Data"
      ],
      "metadata": {
        "id": "MNArbD-U3yRC"
      }
    },
    {
      "cell_type": "code",
      "execution_count": 9,
      "metadata": {
        "colab": {
          "base_uri": "https://localhost:8080/"
        },
        "id": "QVRMtk9j3rHk",
        "outputId": "9207a211-9226-4c33-9a3c-be2c8dac0bc7"
      },
      "outputs": [
        {
          "output_type": "stream",
          "name": "stdout",
          "text": [
            "Data loaded\n"
          ]
        }
      ],
      "source": [
        "# load data\n",
        "data = pd.read_csv(\"adult_reconstruction.csv\")\n",
        "print(\"Data loaded\")"
      ]
    },
    {
      "cell_type": "code",
      "source": [
        "print(data.head())"
      ],
      "metadata": {
        "colab": {
          "base_uri": "https://localhost:8080/"
        },
        "id": "fPdFjZPT6qtK",
        "outputId": "2b96ffe8-b911-47e9-eabf-d65258aed505"
      },
      "execution_count": 10,
      "outputs": [
        {
          "output_type": "stream",
          "name": "stdout",
          "text": [
            "   hours-per-week  age  capital-gain  capital-loss workclass     education  \\\n",
            "0              20   40             0             0   Private     Bachelors   \n",
            "1              40   21             0             0   Private  Some-college   \n",
            "2              10   17             0             0   Private          11th   \n",
            "3              50   51             0             0   Private       HS-grad   \n",
            "4              38   28             0             0   Private     Bachelors   \n",
            "\n",
            "   education-num      marital-status   relationship                race  \\\n",
            "0             13  Married-civ-spouse           Wife               White   \n",
            "1             10            Divorced      Own-child               White   \n",
            "2              7       Never-married      Own-child               White   \n",
            "3              9  Married-civ-spouse        Husband  Asian-Pac-Islander   \n",
            "4             13       Never-married  Not-in-family               White   \n",
            "\n",
            "   gender native-country  income       occupation  \n",
            "0  Female  United-States   49100     Tech-support  \n",
            "1    Male  United-States   11500     Craft-repair  \n",
            "2    Male  United-States    2600    Other-service  \n",
            "3    Male       Cambodia   38997            Sales  \n",
            "4    Male              ?   41400  Exec-managerial  \n"
          ]
        }
      ]
    },
    {
      "cell_type": "code",
      "source": [
        "# checking for missing values\n",
        "# for col in data:\n",
        "#     print(col)\n",
        "#     print(data[col].unique()) # native-country and occupation contain '?'\n",
        "\n",
        "# print(data['native-country'].value_counts()) # 859 question marks\n",
        "# print(data['occupation'].value_counts()) # 2869 question marks\n",
        "\n",
        "before = len(data)\n",
        "print(before)\n",
        "\n",
        "# drop all rows with '?' at either native-country or occupation\n",
        "data = data.drop(data[data['native-country'] == '?'].index)\n",
        "data = data.drop(data[data['occupation'] == '?'].index)\n",
        "\n",
        "print(len(data))\n",
        "print(\"So dropped values are:\", before-len(data))"
      ],
      "metadata": {
        "colab": {
          "base_uri": "https://localhost:8080/"
        },
        "id": "2BN7aJ_k6yjR",
        "outputId": "89d653af-41fe-4409-c542-551bee64c106"
      },
      "execution_count": 11,
      "outputs": [
        {
          "output_type": "stream",
          "name": "stdout",
          "text": [
            "49531\n",
            "45849\n",
            "So dropped values are: 3682\n"
          ]
        }
      ]
    },
    {
      "cell_type": "markdown",
      "source": [
        "### Getting the ID loss function\n",
        "\n",
        "> Add blockquote\n",
        "\n"
      ],
      "metadata": {
        "id": "9ux7_kCE9ANJ"
      }
    },
    {
      "cell_type": "code",
      "source": [],
      "metadata": {
        "id": "_yc5cjo28-7D"
      },
      "execution_count": 9,
      "outputs": []
    },
    {
      "cell_type": "markdown",
      "source": [
        "### Simple regression model on data"
      ],
      "metadata": {
        "id": "QRZ8piamnOWr"
      }
    },
    {
      "cell_type": "code",
      "source": [
        "# split data with 80-20 train-testsplit\n",
        "# X = data.drop(columns=['income'])\n",
        "# y = data['income']\n",
        "# print(y)\n",
        "\n",
        "# X_train, X_test, y_train, y_test = train_test_split(\n",
        "#     X, y, test_size=0.2, random_state=42\n",
        "# )\n",
        "cat_features = ['workclass', 'education', 'marital-status', 'relationship', 'race', 'gender', 'native-country', 'occupation']\n",
        "\n",
        "encoded_df = data.copy()  # Use .copy() to avoid the warning\n",
        "label_encoder = LabelEncoder()\n",
        "\n",
        "for i in cat_features:\n",
        "    encoded_df.loc[:, i] = label_encoder.fit_transform(encoded_df[i])\n",
        "# print(encoded_df.head())\n",
        "\n",
        "features = list(encoded_df.columns)\n",
        "features.remove('income')\n",
        "\n",
        "train_set, test_set = train_test_split(encoded_df, test_size=0.2)\n",
        "\n",
        "X_train = np.array(train_set[features])\n",
        "y_train = np.array(train_set['income'])\n",
        "\n",
        "X_test = np.array(test_set[features])\n",
        "y_test = np.array(test_set['income'])\n",
        "\n",
        "print(X_train)\n",
        "\n",
        "print(y_train)"
      ],
      "metadata": {
        "colab": {
          "base_uri": "https://localhost:8080/"
        },
        "id": "H8rjOI8onOFa",
        "outputId": "5f8727c7-b70f-4f9f-be9b-aabdb6a55f3d"
      },
      "execution_count": 12,
      "outputs": [
        {
          "output_type": "stream",
          "name": "stdout",
          "text": [
            "[[40 57 0 ... 1 38 2]\n",
            " [40 48 0 ... 0 38 3]\n",
            " [50 31 0 ... 1 38 13]\n",
            " ...\n",
            " [35 65 6514 ... 1 38 9]\n",
            " [40 35 0 ... 0 38 5]\n",
            " [50 50 0 ... 1 38 2]]\n",
            "[16878 57283 23009 ... 63140 19000 62028]\n"
          ]
        }
      ]
    },
    {
      "cell_type": "markdown",
      "source": [
        "#### Linear"
      ],
      "metadata": {
        "id": "sdIstTlVop7z"
      }
    },
    {
      "cell_type": "code",
      "source": [
        "mod = LinearRegression().fit(X_train, y_train)\n",
        "y_pred = mod.predict(X_test)"
      ],
      "metadata": {
        "id": "grW14_CWnreK"
      },
      "execution_count": 13,
      "outputs": []
    },
    {
      "cell_type": "markdown",
      "source": [
        "#### XGBoost"
      ],
      "metadata": {
        "id": "dcPvYQQ0otIE"
      }
    },
    {
      "cell_type": "code",
      "source": [],
      "metadata": {
        "id": "CIALKipdou-5"
      },
      "execution_count": 11,
      "outputs": []
    },
    {
      "cell_type": "markdown",
      "source": [],
      "metadata": {
        "id": "WXoaCfbMvn28"
      }
    },
    {
      "cell_type": "markdown",
      "source": [
        "## ID metric"
      ],
      "metadata": {
        "id": "yaoKRpS9vllp"
      }
    },
    {
      "cell_type": "code",
      "source": [
        "from ID import id\n",
        "# id(trues: pd.Series, preds: pd.Series, X: pd.DataFrame, prot_attrs: list, pl: bool=False, return_errs: bool = False, ph=None, phi_trues=None):\n",
        "print(id(y_test, y_pred, encoded_df, ['rece, gender, native_country']))"
      ],
      "metadata": {
        "colab": {
          "base_uri": "https://localhost:8080/",
          "height": 505
        },
        "id": "wiE92nu5vose",
        "outputId": "650841dd-9afd-4478-bfed-d37b686407f2"
      },
      "execution_count": 14,
      "outputs": [
        {
          "output_type": "error",
          "ename": "ImportError",
          "evalue": "cannot import name 'phi' from 'iron' (/usr/local/lib/python3.11/dist-packages/iron/__init__.py)",
          "traceback": [
            "\u001b[0;31m---------------------------------------------------------------------------\u001b[0m",
            "\u001b[0;31mImportError\u001b[0m                               Traceback (most recent call last)",
            "\u001b[0;32m<ipython-input-14-2612669555>\u001b[0m in \u001b[0;36m<cell line: 0>\u001b[0;34m()\u001b[0m\n\u001b[0;32m----> 1\u001b[0;31m \u001b[0;32mfrom\u001b[0m \u001b[0mID\u001b[0m \u001b[0;32mimport\u001b[0m \u001b[0mid\u001b[0m\u001b[0;34m\u001b[0m\u001b[0;34m\u001b[0m\u001b[0m\n\u001b[0m\u001b[1;32m      2\u001b[0m \u001b[0;31m# id(trues: pd.Series, preds: pd.Series, X: pd.DataFrame, prot_attrs: list, pl: bool=False, return_errs: bool = False, ph=None, phi_trues=None):\u001b[0m\u001b[0;34m\u001b[0m\u001b[0;34m\u001b[0m\u001b[0m\n\u001b[1;32m      3\u001b[0m \u001b[0mprint\u001b[0m\u001b[0;34m(\u001b[0m\u001b[0mid\u001b[0m\u001b[0;34m(\u001b[0m\u001b[0my_test\u001b[0m\u001b[0;34m,\u001b[0m \u001b[0my_pred\u001b[0m\u001b[0;34m,\u001b[0m \u001b[0mencoded_df\u001b[0m\u001b[0;34m,\u001b[0m \u001b[0;34m[\u001b[0m\u001b[0;34m'rece, gender, native_country'\u001b[0m\u001b[0;34m]\u001b[0m\u001b[0;34m)\u001b[0m\u001b[0;34m)\u001b[0m\u001b[0;34m\u001b[0m\u001b[0;34m\u001b[0m\u001b[0m\n",
            "\u001b[0;32m/content/ID.py\u001b[0m in \u001b[0;36m<module>\u001b[0;34m\u001b[0m\n\u001b[0;32m----> 1\u001b[0;31m \u001b[0;32mfrom\u001b[0m \u001b[0miron\u001b[0m \u001b[0;32mimport\u001b[0m \u001b[0mphi\u001b[0m\u001b[0;34m,\u001b[0m \u001b[0msera\u001b[0m\u001b[0;34m\u001b[0m\u001b[0;34m\u001b[0m\u001b[0m\n\u001b[0m\u001b[1;32m      2\u001b[0m \u001b[0;32mimport\u001b[0m \u001b[0mpandas\u001b[0m \u001b[0;32mas\u001b[0m \u001b[0mpd\u001b[0m\u001b[0;34m\u001b[0m\u001b[0;34m\u001b[0m\u001b[0m\n\u001b[1;32m      3\u001b[0m \u001b[0;32mimport\u001b[0m \u001b[0mnumpy\u001b[0m \u001b[0;32mas\u001b[0m \u001b[0mnp\u001b[0m\u001b[0;34m\u001b[0m\u001b[0;34m\u001b[0m\u001b[0m\n\u001b[1;32m      4\u001b[0m \u001b[0;32mfrom\u001b[0m \u001b[0mitertools\u001b[0m \u001b[0;32mimport\u001b[0m \u001b[0mcombinations\u001b[0m\u001b[0;34m\u001b[0m\u001b[0;34m\u001b[0m\u001b[0m\n\u001b[1;32m      5\u001b[0m \u001b[0;32mimport\u001b[0m \u001b[0mplotnine\u001b[0m \u001b[0;32mas\u001b[0m \u001b[0mp9\u001b[0m\u001b[0;34m\u001b[0m\u001b[0;34m\u001b[0m\u001b[0m\n",
            "\u001b[0;31mImportError\u001b[0m: cannot import name 'phi' from 'iron' (/usr/local/lib/python3.11/dist-packages/iron/__init__.py)",
            "",
            "\u001b[0;31m---------------------------------------------------------------------------\u001b[0;32m\nNOTE: If your import is failing due to a missing package, you can\nmanually install dependencies using either !pip or !apt.\n\nTo view examples of installing some common dependencies, click the\n\"Open Examples\" button below.\n\u001b[0;31m---------------------------------------------------------------------------\u001b[0m\n"
          ],
          "errorDetails": {
            "actions": [
              {
                "action": "open_url",
                "actionText": "Open Examples",
                "url": "/notebooks/snippets/importing_libraries.ipynb"
              }
            ]
          }
        }
      ]
    },
    {
      "cell_type": "code",
      "source": [],
      "metadata": {
        "id": "dRN-QuvoJi54"
      },
      "execution_count": null,
      "outputs": []
    }
  ]
}