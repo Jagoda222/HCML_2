{
  "nbformat": 4,
  "nbformat_minor": 0,
  "metadata": {
    "colab": {
      "provenance": [],
      "include_colab_link": true
    },
    "kernelspec": {
      "name": "python3",
      "display_name": "Python 3"
    },
    "language_info": {
      "name": "python"
    }
  },
  "cells": [
    {
      "cell_type": "markdown",
      "metadata": {
        "id": "view-in-github",
        "colab_type": "text"
      },
      "source": [
        "<a href=\"https://colab.research.google.com/github/Jagoda222/HCML_2/blob/main/ID_Jaco.ipynb\" target=\"_parent\"><img src=\"https://colab.research.google.com/assets/colab-badge.svg\" alt=\"Open In Colab\"/></a>"
      ]
    },
    {
      "cell_type": "markdown",
      "source": [
        "# Intersectional Divergence try 1\n",
        "This is to see whether we can use the code provided by the researchers that produced the paper on Intersectional Divergence (ID)."
      ],
      "metadata": {
        "id": "JQEmIZXD3u0E"
      }
    },
    {
      "cell_type": "code",
      "source": [
        "from sklearn.metrics import accuracy_score, precision_score, recall_score, f1_score\n",
        "from sklearn.model_selection import train_test_split\n",
        "from sklearn.preprocessing import LabelEncoder\n",
        "from sklearn import metrics\n",
        "from sklearn.datasets import make_classification\n",
        "from sklearn.linear_model import LogisticRegression\n",
        "from sklearn.linear_model import LinearRegression\n",
        "from sklearn.metrics import classification_report\n",
        "from sklearn.model_selection import train_test_split\n",
        "import matplotlib.pyplot as plt\n",
        "import seaborn as sns\n",
        "import numpy as np\n",
        "import pandas as pd"
      ],
      "metadata": {
        "id": "5PKmdQz5w9UL"
      },
      "execution_count": 1,
      "outputs": []
    },
    {
      "cell_type": "code",
      "source": [
        "!pip install iron\n"
      ],
      "metadata": {
        "id": "bwkZqD6uIpei",
        "outputId": "5005ab27-d82c-4700-ec45-062dcce33370",
        "colab": {
          "base_uri": "https://localhost:8080/"
        }
      },
      "execution_count": 3,
      "outputs": [
        {
          "output_type": "stream",
          "name": "stdout",
          "text": [
            "Collecting iron\n",
            "  Downloading iron-0.3.0-py2.py3-none-any.whl.metadata (927 bytes)\n",
            "Requirement already satisfied: click in /usr/local/lib/python3.11/dist-packages (from iron) (8.2.1)\n",
            "Requirement already satisfied: more-itertools in /usr/local/lib/python3.11/dist-packages (from iron) (10.7.0)\n",
            "Requirement already satisfied: humanize in /usr/local/lib/python3.11/dist-packages (from iron) (4.12.3)\n",
            "Downloading iron-0.3.0-py2.py3-none-any.whl (25 kB)\n",
            "Installing collected packages: iron\n",
            "Successfully installed iron-0.3.0\n"
          ]
        }
      ]
    },
    {
      "cell_type": "code",
      "source": [
        "!ls /usr/local/lib/python3.11/dist-packages/iron/\n"
      ],
      "metadata": {
        "id": "uEkJd0WqJFXt",
        "outputId": "0532deb6-2ea7-4ebc-b229-d25a90c62a90",
        "colab": {
          "base_uri": "https://localhost:8080/"
        }
      },
      "execution_count": 5,
      "outputs": [
        {
          "output_type": "stream",
          "name": "stdout",
          "text": [
            "cli.py\t     decorators.py  io.py     __pycache__  utils.py\n",
            "commands.py  exceptions.py  lib       registry.py  watchers.py\n",
            "core.py      __init__.py    local.py  runtime.py\n"
          ]
        }
      ]
    },
    {
      "cell_type": "code",
      "source": [
        "!grep -ri \"phi\" /usr/local/lib/python3.11/dist-packages/iron/\n"
      ],
      "metadata": {
        "id": "mx1qaX-eJR00"
      },
      "execution_count": 6,
      "outputs": []
    },
    {
      "cell_type": "code",
      "source": [
        "import numpy as np\n",
        "import pandas as pd\n",
        "from scipy.interpolate import interp1d\n",
        "\n",
        "def phi_control(y: pd.Series):\n",
        "    \"\"\"Estimate control points for the relevance function ϕ based on boxplot stats. >> five boxplot 'boundries' \"\"\"\n",
        "    y = y.sort_values()\n",
        "    q1 = y.quantile(0.25)\n",
        "    q2 = y.quantile(0.50)\n",
        "    q3 = y.quantile(0.75)\n",
        "    iqr = q3 - q1\n",
        "    min_ = max(y.min(), q1 - 1.5 * iqr)\n",
        "    max_ = min(y.max(), q3 + 1.5 * iqr)\n",
        "\n",
        "    return {\n",
        "        min_: 1.0,    # lowe boundary\n",
        "        q1: 0.0,      #At the quartiles and median, relevance is 0\n",
        "        q2: 0.0,\n",
        "        q3: 0.0,\n",
        "        max_: 1.0     # higehr boundary\n",
        "    }\n",
        "\n",
        "def phi(y: pd.Series, control_points: dict):\n",
        "    \"\"\"Apply the relevance function using control points from phi_control.\"\"\"\n",
        "    # boxplots boundries\n",
        "    xs = np.array(sorted(control_points.keys()))\n",
        "    # [1.0, 0.0, 0.0, 0.0, 1.0]\n",
        "    ys = np.array([control_points[x] for x in xs])\n",
        "    # interpolates the values\n",
        "    interpolator = interp1d(xs, ys, bounds_error=False, fill_value=(ys[0], ys[-1]))\n",
        "    return interpolator(y)\n"
      ],
      "metadata": {
        "id": "WpCOtVURJ4IK"
      },
      "execution_count": 7,
      "outputs": []
    },
    {
      "cell_type": "code",
      "source": [
        "# Test\n",
        "y = pd.Series([50, 55, 60, 65, 70, 80, 90, 100, 150, 200])\n"
      ],
      "metadata": {
        "id": "TcAhnB24NT7A"
      },
      "execution_count": 18,
      "outputs": []
    },
    {
      "cell_type": "code",
      "source": [
        "ph = phi_control(y)\n",
        "\n",
        "phi_trues = phi(y, ph)\n"
      ],
      "metadata": {
        "id": "k9MQ8dzPNVgu"
      },
      "execution_count": 14,
      "outputs": []
    },
    {
      "cell_type": "code",
      "source": [
        "print(\"Target values (y):\")\n",
        "print(y.to_list())\n",
        "\n",
        "print(\"\\nControl points (from phi_control):\")\n",
        "print(ph)\n",
        "\n",
        "print(\"\\nRelevance scores (ϕ(y)):\")\n",
        "print(np.round(phi_trues, 3))\n"
      ],
      "metadata": {
        "id": "i_56zQuYNZPs",
        "outputId": "f4c853c5-b715-44c6-a2ad-f61df5e86a54",
        "colab": {
          "base_uri": "https://localhost:8080/"
        }
      },
      "execution_count": 16,
      "outputs": [
        {
          "output_type": "stream",
          "name": "stdout",
          "text": [
            "Target values (y):\n",
            "[50, 55, 60, 65, 70, 80, 90, 100, 150, 200]\n",
            "\n",
            "Control points (from phi_control):\n",
            "{50: 1.0, np.float64(61.25): 0.0, np.float64(75.0): 0.0, np.float64(97.5): 0.0, np.float64(151.875): 1.0}\n",
            "\n",
            "Relevance scores (ϕ(y)):\n",
            "[1.    0.556 0.111 0.    0.    0.    0.    0.046 0.966 1.   ]\n"
          ]
        }
      ]
    },
    {
      "cell_type": "code",
      "source": [
        "plt.figure(figsize=(6, 4))\n",
        "box = plt.boxplot(y, vert=False, patch_artist=True)\n",
        "\n",
        "# Add titles and labels\n",
        "plt.title('Boxplot of Target Values')\n",
        "plt.xlabel('Value')\n",
        "\n",
        "# Show grid for better readability\n",
        "plt.grid(True, linestyle='--', alpha=0.6)\n",
        "\n",
        "plt.show()"
      ],
      "metadata": {
        "id": "OkkLC-crPtpZ",
        "outputId": "ed456f4d-8b98-4c33-fbe4-cb392ccf88f2",
        "colab": {
          "base_uri": "https://localhost:8080/",
          "height": 410
        }
      },
      "execution_count": 17,
      "outputs": [
        {
          "output_type": "display_data",
          "data": {
            "text/plain": [
              "<Figure size 600x400 with 1 Axes>"
            ],
            "image/png": "[encoded data removed]"
          },
          "metadata": {}
        }
      ]
    },
    {
      "cell_type": "code",
      "source": [
        "def _get_relevances(y_train: pd.Series):\n",
        "    ph = phi_control(y_train)\n",
        "    phi_trues = np.array(phi(y_train, ph), dtype=np.float64)\n",
        "    return ph, phi_trues\n"
      ],
      "metadata": {
        "id": "rKsQ5AO6M8ag"
      },
      "execution_count": 8,
      "outputs": []
    },
    {
      "cell_type": "markdown",
      "source": [
        "### Data"
      ],
      "metadata": {
        "id": "MNArbD-U3yRC"
      }
    },
    {
      "cell_type": "code",
      "execution_count": null,
      "metadata": {
        "id": "QVRMtk9j3rHk"
      },
      "outputs": [],
      "source": [
        "# load data\n",
        "data = pd.read_csv(\"adult_reconstruction.csv\")\n",
        "print(\"Data loaded\")"
      ]
    },
    {
      "cell_type": "code",
      "source": [
        "print(data.head())"
      ],
      "metadata": {
        "id": "fPdFjZPT6qtK"
      },
      "execution_count": null,
      "outputs": []
    },
    {
      "cell_type": "code",
      "source": [
        "# checking for missing values\n",
        "# for col in data:\n",
        "#     print(col)\n",
        "#     print(data[col].unique()) # native-country and occupation contain '?'\n",
        "\n",
        "# print(data['native-country'].value_counts()) # 859 question marks\n",
        "# print(data['occupation'].value_counts()) # 2869 question marks\n",
        "\n",
        "before = len(data)\n",
        "print(before)\n",
        "\n",
        "# drop all rows with '?' at either native-country or occupation\n",
        "data = data.drop(data[data['native-country'] == '?'].index)\n",
        "data = data.drop(data[data['occupation'] == '?'].index)\n",
        "\n",
        "print(len(data))\n",
        "print(\"So dropped values are:\", before-len(data))"
      ],
      "metadata": {
        "id": "2BN7aJ_k6yjR"
      },
      "execution_count": null,
      "outputs": []
    },
    {
      "cell_type": "markdown",
      "source": [
        "### Getting the ID loss function\n",
        "\n",
        "> Add blockquote\n",
        "\n"
      ],
      "metadata": {
        "id": "9ux7_kCE9ANJ"
      }
    },
    {
      "cell_type": "code",
      "source": [],
      "metadata": {
        "id": "_yc5cjo28-7D"
      },
      "execution_count": null,
      "outputs": []
    },
    {
      "cell_type": "markdown",
      "source": [
        "### Simple regression model on data"
      ],
      "metadata": {
        "id": "QRZ8piamnOWr"
      }
    },
    {
      "cell_type": "code",
      "source": [
        "# split data with 80-20 train-testsplit\n",
        "# X = data.drop(columns=['income'])\n",
        "# y = data['income']\n",
        "# print(y)\n",
        "\n",
        "# X_train, X_test, y_train, y_test = train_test_split(\n",
        "#     X, y, test_size=0.2, random_state=42\n",
        "# )\n",
        "cat_features = ['workclass', 'education', 'marital-status', 'relationship', 'race', 'gender', 'native-country', 'occupation']\n",
        "\n",
        "encoded_df = data.copy()  # Use .copy() to avoid the warning\n",
        "label_encoder = LabelEncoder()\n",
        "\n",
        "for i in cat_features:\n",
        "    encoded_df.loc[:, i] = label_encoder.fit_transform(encoded_df[i])\n",
        "# print(encoded_df.head())\n",
        "\n",
        "features = list(encoded_df.columns)\n",
        "features.remove('income')\n",
        "\n",
        "train_set, test_set = train_test_split(encoded_df, test_size=0.2)\n",
        "\n",
        "X_train = np.array(train_set[features])\n",
        "y_train = np.array(train_set['income'])\n",
        "\n",
        "X_test = np.array(test_set[features])\n",
        "y_test = np.array(test_set['income'])\n",
        "\n",
        "print(X_train)\n",
        "\n",
        "print(y_train)"
      ],
      "metadata": {
        "id": "H8rjOI8onOFa"
      },
      "execution_count": null,
      "outputs": []
    },
    {
      "cell_type": "markdown",
      "source": [
        "#### Linear"
      ],
      "metadata": {
        "id": "sdIstTlVop7z"
      }
    },
    {
      "cell_type": "code",
      "source": [
        "mod = LinearRegression().fit(X_train, y_train)\n",
        "y_pred = mod.predict(X_test)"
      ],
      "metadata": {
        "id": "grW14_CWnreK"
      },
      "execution_count": null,
      "outputs": []
    },
    {
      "cell_type": "markdown",
      "source": [
        "#### XGBoost"
      ],
      "metadata": {
        "id": "dcPvYQQ0otIE"
      }
    },
    {
      "cell_type": "code",
      "source": [],
      "metadata": {
        "id": "CIALKipdou-5"
      },
      "execution_count": null,
      "outputs": []
    },
    {
      "cell_type": "markdown",
      "source": [],
      "metadata": {
        "id": "WXoaCfbMvn28"
      }
    },
    {
      "cell_type": "markdown",
      "source": [
        "## ID metric"
      ],
      "metadata": {
        "id": "yaoKRpS9vllp"
      }
    },
    {
      "cell_type": "code",
      "source": [
        "from ID import id\n",
        "# id(trues: pd.Series, preds: pd.Series, X: pd.DataFrame, prot_attrs: list, pl: bool=False, return_errs: bool = False, ph=None, phi_trues=None):\n",
        "print(id(y_test, y_pred, encoded_df, ['rece, gender, native_country']))"
      ],
      "metadata": {
        "id": "wiE92nu5vose"
      },
      "execution_count": null,
      "outputs": []
    },
    {
      "cell_type": "code",
      "source": [],
      "metadata": {
        "id": "dRN-QuvoJi54"
      },
      "execution_count": null,
      "outputs": []
    }
  ]
}